{
 "cells": [
  {
   "cell_type": "code",
   "execution_count": null,
   "metadata": {
    "colab": {
     "base_uri": "https://localhost:8080/"
    },
    "executionInfo": {
     "elapsed": 1331,
     "status": "ok",
     "timestamp": 1703564351648,
     "user": {
      "displayName": "Mohammad Sadegh Fahmani",
      "userId": "17943208238820018014"
     },
     "user_tz": -210
    },
    "id": "97XLMYxiPyKy",
    "outputId": "eb944e0c-12d3-4e1c-9fff-35635d52eeb0"
   },
   "outputs": [],
   "source": [
    "!git clone https://github.com/sovit-123/fastercnn-pytorch-training-pipeline.git"
   ]
  },
  {
   "cell_type": "code",
   "execution_count": 4,
   "metadata": {
    "colab": {
     "base_uri": "https://localhost:8080/"
    },
    "executionInfo": {
     "elapsed": 24461,
     "status": "ok",
     "timestamp": 1703564378580,
     "user": {
      "displayName": "Mohammad Sadegh Fahmani",
      "userId": "17943208238820018014"
     },
     "user_tz": -210
    },
    "id": "nz-zNOToQHYE",
    "outputId": "ab64e203-17d6-4776-e877-a92417405905"
   },
   "outputs": [
    {
     "name": "stdout",
     "output_type": "stream",
     "text": [
      "Mounted at /content/drive\n"
     ]
    }
   ],
   "source": [
    "from google.colab import drive\n",
    "drive.mount('/content/drive')"
   ]
  },
  {
   "cell_type": "code",
   "execution_count": null,
   "metadata": {
    "colab": {
     "base_uri": "https://localhost:8080/"
    },
    "executionInfo": {
     "elapsed": 5457,
     "status": "ok",
     "timestamp": 1703564387166,
     "user": {
      "displayName": "Mohammad Sadegh Fahmani",
      "userId": "17943208238820018014"
     },
     "user_tz": -210
    },
    "id": "ts-if3LtuFKl",
    "outputId": "2fb0c0fc-93ad-4458-b56f-da97fc7341fe"
   },
   "outputs": [],
   "source": [
    "!unzip /content/drive/MyDrive/Armin_Dataset/Faster.zip"
   ]
  },
  {
   "cell_type": "code",
   "execution_count": null,
   "metadata": {
    "colab": {
     "base_uri": "https://localhost:8080/"
    },
    "executionInfo": {
     "elapsed": 287,
     "status": "ok",
     "timestamp": 1703564391036,
     "user": {
      "displayName": "Mohammad Sadegh Fahmani",
      "userId": "17943208238820018014"
     },
     "user_tz": -210
    },
    "id": "hKLDxpGxQMAm",
    "outputId": "b03e571f-a97e-4bd5-a199-8e0b20e4005b"
   },
   "outputs": [],
   "source": [
    "# Enter the repo directory.\n",
    "%cd fastercnn-pytorch-training-pipeline/"
   ]
  },
  {
   "cell_type": "code",
   "execution_count": null,
   "metadata": {
    "colab": {
     "base_uri": "https://localhost:8080/",
     "height": 1000
    },
    "executionInfo": {
     "elapsed": 24213,
     "status": "ok",
     "timestamp": 1703564420847,
     "user": {
      "displayName": "Mohammad Sadegh Fahmani",
      "userId": "17943208238820018014"
     },
     "user_tz": -210
    },
    "id": "_1BOAYayQMzF",
    "outputId": "fd716138-b35f-4386-b343-45746a3b800c"
   },
   "outputs": [],
   "source": [
    "# Install the Requirements\n",
    "!pip install -r requirements.txt\n",
    "!pip install vision_transformers"
   ]
  },
  {
   "cell_type": "code",
   "execution_count": null,
   "metadata": {
    "colab": {
     "base_uri": "https://localhost:8080/"
    },
    "executionInfo": {
     "elapsed": 2125396,
     "status": "ok",
     "timestamp": 1703566716779,
     "user": {
      "displayName": "Mohammad Sadegh Fahmani",
      "userId": "17943208238820018014"
     },
     "user_tz": -210
    },
    "id": "l_l7NzorQZYT",
    "outputId": "f6f9460d-590a-4591-acd7-3bb3333f01f0"
   },
   "outputs": [],
   "source": [
    "!python train.py --batch 8 --epochs 100 --model fasterrcnn_resnet50_fpn_v2 --name fasterrcnn_resnet50_fpn_v2 --data /content/drive/MyDrive/faster.yaml"
   ]
  }
 ],
 "metadata": {
  "accelerator": "GPU",
  "colab": {
   "gpuType": "T4",
   "provenance": []
  },
  "kernelspec": {
   "display_name": "Python 3",
   "name": "python3"
  },
  "language_info": {
   "name": "python"
  }
 },
 "nbformat": 4,
 "nbformat_minor": 0
}
