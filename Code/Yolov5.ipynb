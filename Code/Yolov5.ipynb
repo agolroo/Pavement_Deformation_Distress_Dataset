{
 "cells": [
  {
   "cell_type": "code",
   "execution_count": null,
   "metadata": {
    "id": "7QyDFyKhLuEO"
   },
   "outputs": [],
   "source": [
    "!git clone https://github.com/ultralytics/yolov5\n",
    "%cd yolov5\n",
    "%pip install -qr requirements.txt\n",
    "%pip install -r requirements.txt\n",
    "%pip install utils\n",
    "!pip install clearml\n",
    "!pip install clearml-agent\n",
    "import os.path\n",
    "from os import path\n",
    "import shutil\n",
    "import torch\n",
    "import utils\n",
    "import torch\n",
    "from IPython.display import Image  # for displaying images\n",
    "import os\n",
    "import random\n",
    "import shutil\n",
    "from sklearn.model_selection import train_test_split\n",
    "import xml.etree.ElementTree as ET\n",
    "from xml.dom import minidom\n",
    "from tqdm import tqdm\n",
    "from PIL import Image, ImageDraw\n",
    "import numpy as np\n",
    "import matplotlib.pyplot as plt\n",
    "import os.path\n",
    "from os import path\n",
    "from clearml import Task\n",
    "import tensorflow as tf\n",
    "random.seed(108)\n",
    "display = utils.notebook_init()\n",
    "tf.test.gpu_device_name()"
   ]
  },
  {
   "cell_type": "code",
   "execution_count": null,
   "metadata": {
    "id": "dg3KcT70ULBo"
   },
   "outputs": [],
   "source": [
    "from google.colab import drive\n",
    "drive.mount('/content/drive')"
   ]
  },
  {
   "cell_type": "code",
   "execution_count": null,
   "metadata": {
    "id": "Fgu4TS0UFeNd"
   },
   "outputs": [],
   "source": [
    "!unzip /content/drive/MyDrive/dataset.zip -d /content/drive/MyDrive/dataset"
   ]
  },
  {
   "cell_type": "code",
   "execution_count": null,
   "metadata": {
    "colab": {
     "base_uri": "https://localhost:8080/"
    },
    "id": "TV9dUjBYRYU-",
    "outputId": "ee6ee4c7-0e94-442d-e066-e0507333302f"
   },
   "outputs": [],
   "source": [
    "# Training the Custom Object Detector Model\n",
    "! python train.py --img 320 --batch 32 --epochs 10 --cfg /content/drive/MyDrive/yolov5n.yaml --data /content/drive/MyDrive/data_pavement.yaml --weights /content/drive/MyDrive/YOLOv5n.pt"
   ]
  },
  {
   "cell_type": "code",
   "execution_count": null,
   "metadata": {
    "id": "r5q5f2At-eN6"
   },
   "outputs": [],
   "source": [
    "!python /content/yolov5/detect.py --source /content/drive/MyDrive/dataset/images/val --weights /content/drive/MyDrive/yolov5s.pt --img 640 --iou-thres 0.5"
   ]
  }
 ],
 "metadata": {
  "accelerator": "GPU",
  "colab": {
   "provenance": []
  },
  "kernelspec": {
   "display_name": "Python 3",
   "name": "python3"
  },
  "language_info": {
   "name": "python"
  }
 },
 "nbformat": 4,
 "nbformat_minor": 0
}
