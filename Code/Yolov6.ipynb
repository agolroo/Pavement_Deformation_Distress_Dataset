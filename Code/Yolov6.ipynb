{
 "cells": [
  {
   "cell_type": "code",
   "execution_count": null,
   "metadata": {
    "id": "KqkyvI7GB_3X"
   },
   "outputs": [],
   "source": [
    "!git clone https://github.com/meituan/YOLOv6\n",
    "%cd YOLOv6\n",
    "!pip install -r requirements.txt"
   ]
  },
  {
   "cell_type": "code",
   "execution_count": null,
   "metadata": {
    "id": "tCpY0wwJCaLj"
   },
   "outputs": [],
   "source": [
    "from google.colab import drive\n",
    "drive.mount('/content/drive')"
   ]
  },
  {
   "cell_type": "code",
   "execution_count": null,
   "metadata": {
    "id": "cxbviGS6CWdF"
   },
   "outputs": [],
   "source": [
    "%cd /content\n",
    "!unzip /content/drive/MyDrive/Thesis_Data/yolo_dataset.zip"
   ]
  },
  {
   "cell_type": "code",
   "execution_count": null,
   "metadata": {
    "id": "i0d_I6Q5ECft"
   },
   "outputs": [],
   "source": [
    "%cd YOLOv6\n",
    "!python tools/train.py --batch 32 --epoch 100 --conf configs/yolov6s.py --data /content/drive/MyDrive/data_pavement.yaml --fuse_ab --device 0 --img 640"
   ]
  }
 ],
 "metadata": {
  "accelerator": "GPU",
  "colab": {
   "authorship_tag": "ABX9TyPxe3I3GIlzxP9qa6NArRuE",
   "provenance": []
  },
  "gpuClass": "standard",
  "kernelspec": {
   "display_name": "Python 3",
   "name": "python3"
  },
  "language_info": {
   "name": "python"
  }
 },
 "nbformat": 4,
 "nbformat_minor": 0
}
