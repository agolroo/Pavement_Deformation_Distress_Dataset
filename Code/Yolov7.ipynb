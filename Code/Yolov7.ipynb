{
 "cells": [
  {
   "cell_type": "code",
   "execution_count": null,
   "metadata": {
    "id": "NHT0yqvANBhg"
   },
   "outputs": [],
   "source": [
    "! git clone https://github.com/WongKinYiu/yolov7.git"
   ]
  },
  {
   "cell_type": "code",
   "execution_count": null,
   "metadata": {
    "id": "hRLDDB4MREjJ"
   },
   "outputs": [],
   "source": [
    "%pip install -r /content/yolov7/requirements.txt"
   ]
  },
  {
   "cell_type": "code",
   "execution_count": 1,
   "metadata": {
    "colab": {
     "base_uri": "https://localhost:8080/"
    },
    "executionInfo": {
     "elapsed": 37535,
     "status": "ok",
     "timestamp": 1703488193154,
     "user": {
      "displayName": "Mohammad Sadegh Fahmani",
      "userId": "17943208238820018014"
     },
     "user_tz": -210
    },
    "id": "gAKcjQTrPOuU",
    "outputId": "6eefab89-c147-4c87-c94a-75432b83288b"
   },
   "outputs": [
    {
     "name": "stdout",
     "output_type": "stream",
     "text": [
      "Mounted at /content/drive\n"
     ]
    }
   ],
   "source": [
    "from google.colab import drive\n",
    "drive.mount('/content/drive')"
   ]
  },
  {
   "cell_type": "code",
   "execution_count": null,
   "metadata": {
    "id": "8sarUzqDR3GY"
   },
   "outputs": [],
   "source": [
    "!unzip /content/drive/MyDrive/datasets/data_yolov7.zip"
   ]
  },
  {
   "cell_type": "code",
   "execution_count": null,
   "metadata": {
    "id": "LnIR0xoQ18wQ"
   },
   "outputs": [],
   "source": [
    "import shutil\n",
    "shutil.copy(\"/content/drive/MyDrive/Thesis_Data/yolov7.pt\", \"/content/yolov7/yolov7.pt\")"
   ]
  },
  {
   "cell_type": "code",
   "execution_count": null,
   "metadata": {
    "id": "MD9-uU1NSaXJ"
   },
   "outputs": [],
   "source": [
    "%cd /content/yolov7\n",
    "!python /content/yolov7/train.py --workers 1 --device 0 --batch-size 16 --epochs 10 --img 640 640 --hyp data/hyp.scratch.custom.yaml --name yolov7-custom --weights yolov7.pt --cfg /content/yolov7/cfg/training/yolov7.yaml --data /content/drive/MyDrive/yolov7.yaml"
   ]
  }
 ],
 "metadata": {
  "colab": {
   "authorship_tag": "ABX9TyNoeDsBCa48WwBq9lsCf0wJ",
   "provenance": []
  },
  "kernelspec": {
   "display_name": "Python 3",
   "name": "python3"
  },
  "language_info": {
   "name": "python"
  }
 },
 "nbformat": 4,
 "nbformat_minor": 0
}
